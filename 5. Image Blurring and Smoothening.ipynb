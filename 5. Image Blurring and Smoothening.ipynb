{
 "cells": [
  {
   "cell_type": "code",
   "execution_count": 1,
   "id": "f1754e40-7a8d-4d6d-8ddb-163636bff181",
   "metadata": {},
   "outputs": [],
   "source": [
    "import cv2\n",
    "import numpy as np\n",
    "import matplotlib.pyplot as plt"
   ]
  },
  {
   "cell_type": "code",
   "execution_count": 2,
   "id": "a87c53f7-7b42-414a-8f22-b4e27e562d46",
   "metadata": {},
   "outputs": [],
   "source": [
    "img = cv2.imread('images/sachin.jpg')"
   ]
  },
  {
   "cell_type": "markdown",
   "id": "55a39047-a076-422f-9cff-2ae47a8d6990",
   "metadata": {},
   "source": [
    "### Averaging kernel"
   ]
  },
  {
   "cell_type": "code",
   "execution_count": 19,
   "id": "ade93c6d-6391-46fd-a865-7ab38d0e4cdf",
   "metadata": {},
   "outputs": [],
   "source": [
    "# define the averaging kernel\n",
    "kernel =np.ones([9, 9]) * 1/81  # 9*9=81"
   ]
  },
  {
   "cell_type": "code",
   "execution_count": 20,
   "id": "08e6ede0-36a5-4592-8688-4d13b1bb6966",
   "metadata": {},
   "outputs": [
    {
     "data": {
      "text/plain": [
       "array([[0.01234568, 0.01234568, 0.01234568, 0.01234568, 0.01234568,\n",
       "        0.01234568, 0.01234568, 0.01234568, 0.01234568],\n",
       "       [0.01234568, 0.01234568, 0.01234568, 0.01234568, 0.01234568,\n",
       "        0.01234568, 0.01234568, 0.01234568, 0.01234568],\n",
       "       [0.01234568, 0.01234568, 0.01234568, 0.01234568, 0.01234568,\n",
       "        0.01234568, 0.01234568, 0.01234568, 0.01234568],\n",
       "       [0.01234568, 0.01234568, 0.01234568, 0.01234568, 0.01234568,\n",
       "        0.01234568, 0.01234568, 0.01234568, 0.01234568],\n",
       "       [0.01234568, 0.01234568, 0.01234568, 0.01234568, 0.01234568,\n",
       "        0.01234568, 0.01234568, 0.01234568, 0.01234568],\n",
       "       [0.01234568, 0.01234568, 0.01234568, 0.01234568, 0.01234568,\n",
       "        0.01234568, 0.01234568, 0.01234568, 0.01234568],\n",
       "       [0.01234568, 0.01234568, 0.01234568, 0.01234568, 0.01234568,\n",
       "        0.01234568, 0.01234568, 0.01234568, 0.01234568],\n",
       "       [0.01234568, 0.01234568, 0.01234568, 0.01234568, 0.01234568,\n",
       "        0.01234568, 0.01234568, 0.01234568, 0.01234568],\n",
       "       [0.01234568, 0.01234568, 0.01234568, 0.01234568, 0.01234568,\n",
       "        0.01234568, 0.01234568, 0.01234568, 0.01234568]])"
      ]
     },
     "execution_count": 20,
     "metadata": {},
     "output_type": "execute_result"
    }
   ],
   "source": [
    "kernel"
   ]
  },
  {
   "cell_type": "code",
   "execution_count": 21,
   "id": "2a6ce028-8329-4c56-911a-c64c8e321a57",
   "metadata": {},
   "outputs": [
    {
     "name": "stdout",
     "output_type": "stream",
     "text": [
      "Help on built-in function filter2D:\n",
      "\n",
      "filter2D(...)\n",
      "    filter2D(src, ddepth, kernel[, dst[, anchor[, delta[, borderType]]]]) -> dst\n",
      "    .   @brief Convolves an image with the kernel.\n",
      "    .\n",
      "    .   The function applies an arbitrary linear filter to an image. In-place operation is supported. When\n",
      "    .   the aperture is partially outside the image, the function interpolates outlier pixel values\n",
      "    .   according to the specified border mode.\n",
      "    .\n",
      "    .   The function does actually compute correlation, not the convolution:\n",
      "    .\n",
      "    .   \\f[\\texttt{dst} (x,y) =  \\sum _{ \\substack{0\\leq x' < \\texttt{kernel.cols}\\\\{0\\leq y' < \\texttt{kernel.rows}}}}  \\texttt{kernel} (x',y')* \\texttt{src} (x+x'- \\texttt{anchor.x} ,y+y'- \\texttt{anchor.y} )\\f]\n",
      "    .\n",
      "    .   That is, the kernel is not mirrored around the anchor point. If you need a real convolution, flip\n",
      "    .   the kernel using #flip and set the new anchor to `(kernel.cols - anchor.x - 1, kernel.rows -\n",
      "    .   anchor.y - 1)`.\n",
      "    .\n",
      "    .   The function uses the DFT-based algorithm in case of sufficiently large kernels (~`11 x 11` or\n",
      "    .   larger) and the direct algorithm for small kernels.\n",
      "    .\n",
      "    .   @param src input image.\n",
      "    .   @param dst output image of the same size and the same number of channels as src.\n",
      "    .   @param ddepth desired depth of the destination image, see @ref filter_depths \"combinations\"\n",
      "    .   @param kernel convolution kernel (or rather a correlation kernel), a single-channel floating point\n",
      "    .   matrix; if you want to apply different kernels to different channels, split the image into\n",
      "    .   separate color planes using split and process them individually.\n",
      "    .   @param anchor anchor of the kernel that indicates the relative position of a filtered point within\n",
      "    .   the kernel; the anchor should lie within the kernel; default value (-1,-1) means that the anchor\n",
      "    .   is at the kernel center.\n",
      "    .   @param delta optional value added to the filtered pixels before storing them in dst.\n",
      "    .   @param borderType pixel extrapolation method, see #BorderTypes. #BORDER_WRAP is not supported.\n",
      "    .   @sa  sepFilter2D, dft, matchTemplate\n",
      "\n"
     ]
    }
   ],
   "source": [
    "help(cv2.filter2D)"
   ]
  },
  {
   "cell_type": "code",
   "execution_count": 22,
   "id": "34e2f6ad-99be-497a-aa91-cc808589eb21",
   "metadata": {},
   "outputs": [],
   "source": [
    "smoothened_image = cv2.filter2D(img, -1, kernel)"
   ]
  },
  {
   "cell_type": "code",
   "execution_count": 23,
   "id": "143902fc-48fa-4579-85c9-871f3448ac15",
   "metadata": {},
   "outputs": [],
   "source": [
    "cv2.imshow('Blurred Image',smoothened_image)\n",
    "cv2.waitKey(0)\n",
    "cv2.destroyAllWindows()"
   ]
  },
  {
   "cell_type": "code",
   "execution_count": null,
   "id": "7a0badab-1029-4e33-a273-16dac43e553c",
   "metadata": {},
   "outputs": [],
   "source": []
  }
 ],
 "metadata": {
  "kernelspec": {
   "display_name": "Python 3 (ipykernel)",
   "language": "python",
   "name": "python3"
  },
  "language_info": {
   "codemirror_mode": {
    "name": "ipython",
    "version": 3
   },
   "file_extension": ".py",
   "mimetype": "text/x-python",
   "name": "python",
   "nbconvert_exporter": "python",
   "pygments_lexer": "ipython3",
   "version": "3.12.4"
  }
 },
 "nbformat": 4,
 "nbformat_minor": 5
}
